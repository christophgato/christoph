{
  "cells": [
    {
      "cell_type": "markdown",
      "metadata": {
        "id": "_DITz5TKIbpK"
      },
      "source": [
        "#Programación Avanzada\n",
        "##Tarea Semana 1\n",
        "###Christopher Fica"
      ]
    },
    {
      "cell_type": "markdown",
      "metadata": {
        "id": "VKMFf7yaIqUd"
      },
      "source": [
        "![circunferencia](https://www.problemasyecuaciones.com/geometria2D/area/circulo/img0.png)"
      ]
    },
    {
      "cell_type": "code",
      "execution_count": 37,
      "metadata": {
        "id": "qfhCcqFiLBr_",
        "colab": {
          "base_uri": "https://localhost:8080/"
        },
        "outputId": "72d3e0c8-d230-422d-c4c3-8d37d3189f6e"
      },
      "outputs": [
        {
          "output_type": "stream",
          "name": "stdout",
          "text": [
            "Ingrese una lista de números reales positivos separados por espacios, corrspondientes a valores de radio de circunferencias: 2\n",
            "El valor de perímetro correspondiente al valor de radio ingresado es:  12.566370614359172\n",
            ", y el valor de área correspondientes es:  12.566370614359172."
          ]
        }
      ],
      "source": [
        "numeros = input(\"Ingrese una lista de números reales positivos separados por espacios, corrspondientes a valores de radio de circunferencias: \").split()\n",
        "\n",
        "error = False\n",
        "\n",
        "for num in numeros:\n",
        "    try:\n",
        "        if float(num) <= 0:\n",
        "            error = True\n",
        "            break\n",
        "    except ValueError:\n",
        "        error = True\n",
        "        break\n",
        "\n",
        "if error:\n",
        "    print(\"Error: existe un número que no es un número real positivo\")\n",
        "else:\n",
        "    x = np.array([float(num) for num in numeros])\n",
        "\n",
        "\n",
        "P = x * 2 * np.pi # vector perímetro\n",
        "r = x * x         # r^2\n",
        "A = r * np.pi     # vector área\n",
        "\n",
        "if len(numeros) > 1:\n",
        "  print(\"Los valores de perímetro correspondientes a cada valor de radio ingresado son: \", ', '.join(map(str,P)))\n",
        "  print(\", y los valores de área correspondientes son: \", ', '.join(map(str,A)), end=\".\")\n",
        "else:\n",
        "  print(\"El valor de perímetro correspondiente al valor de radio ingresado es: \", ', '.join(map(str,P)))\n",
        "  print(\", y el valor de área correspondientes es: \", ', '.join(map(str,A)), end=\".\")\n",
        "\n",
        "\n",
        "\n",
        "\n",
        "\n",
        "\n",
        "\n",
        "\n"
      ]
    },
    {
      "cell_type": "code",
      "source": [],
      "metadata": {
        "id": "cwYWPX9Zx9uQ"
      },
      "execution_count": null,
      "outputs": []
    }
  ],
  "metadata": {
    "colab": {
      "provenance": []
    },
    "kernelspec": {
      "display_name": "Python 3",
      "name": "python3"
    },
    "language_info": {
      "name": "python"
    }
  },
  "nbformat": 4,
  "nbformat_minor": 0
}